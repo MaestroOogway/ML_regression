{
  "nbformat": 4,
  "nbformat_minor": 0,
  "metadata": {
    "colab": {
      "provenance": []
    },
    "kernelspec": {
      "name": "python3",
      "display_name": "Python 3"
    },
    "language_info": {
      "name": "python"
    }
  },
  "cells": [
    {
      "cell_type": "markdown",
      "source": [
        "#INC512: Machine Learning Aplicado\n",
        "Taller Práctico: Regresión con keras\n",
        "\n",
        "profesor: Aaron Ponce Sandoval\n",
        "\n",
        "\n",
        "## Integrantes:\n",
        "\n",
        "*   Joaquin Quintanilla\n",
        "*   Italo Lopez\n",
        "*   Fabian vidal\n",
        "\n"
      ],
      "metadata": {
        "id": "uJ267nWja5JX"
      }
    },
    {
      "cell_type": "markdown",
      "source": [
        "# 1. Importación de librerías"
      ],
      "metadata": {
        "id": "ub2nsl9sJAMO"
      }
    },
    {
      "cell_type": "code",
      "execution_count": null,
      "metadata": {
        "id": "EdhmLEqPIh_6"
      },
      "outputs": [],
      "source": [
        "import numpy as np\n",
        "import pandas as pd\n",
        "from sklearn.model_selection import train_test_split\n",
        "from sklearn.preprocessing import StandardScaler\n",
        "import matplotlib.pyplot as plt\n",
        "import keras\n",
        "from keras.models import Sequential\n",
        "from keras.layers import Dense\n"
      ]
    },
    {
      "cell_type": "markdown",
      "source": [
        "# 2. Lectura de dataframe"
      ],
      "metadata": {
        "id": "k_QZea-pJDBV"
      }
    },
    {
      "cell_type": "code",
      "source": [
        "from google.colab import drive\n",
        "\n",
        "# Monta Google Drive\n",
        "drive.mount('/content/drive')\n",
        "\n",
        "# Especificar la ruta del archivo subido\n",
        "file_path = '/content/drive/MyDrive/Trabajos/MLaplicado/BostonHousing.csv'\n",
        "\n",
        "# Leer el archivo CSV\n",
        "df = pd.read_csv(file_path)\n",
        "df.head()\n"
      ],
      "metadata": {
        "colab": {
          "base_uri": "https://localhost:8080/",
          "height": 224
        },
        "id": "MVi2NUnAI2r8",
        "outputId": "ec502c07-df66-493d-f67a-0987cefb50e6"
      },
      "execution_count": null,
      "outputs": [
        {
          "output_type": "stream",
          "name": "stdout",
          "text": [
            "Drive already mounted at /content/drive; to attempt to forcibly remount, call drive.mount(\"/content/drive\", force_remount=True).\n"
          ]
        },
        {
          "output_type": "execute_result",
          "data": {
            "text/plain": [
              "      crim    zn  indus  chas    nox     rm   age     dis  rad  tax  ptratio  \\\n",
              "0  0.00632  18.0   2.31     0  0.538  6.575  65.2  4.0900    1  296     15.3   \n",
              "1  0.02731   0.0   7.07     0  0.469  6.421  78.9  4.9671    2  242     17.8   \n",
              "2  0.02729   0.0   7.07     0  0.469  7.185  61.1  4.9671    2  242     17.8   \n",
              "3  0.03237   0.0   2.18     0  0.458  6.998  45.8  6.0622    3  222     18.7   \n",
              "4  0.06905   0.0   2.18     0  0.458  7.147  54.2  6.0622    3  222     18.7   \n",
              "\n",
              "        b  lstat  medv  \n",
              "0  396.90   4.98  24.0  \n",
              "1  396.90   9.14  21.6  \n",
              "2  392.83   4.03  34.7  \n",
              "3  394.63   2.94  33.4  \n",
              "4  396.90   5.33  36.2  "
            ],
            "text/html": [
              "\n",
              "  <div id=\"df-9b17c263-4ea7-43e9-abec-ed58610b7a34\" class=\"colab-df-container\">\n",
              "    <div>\n",
              "<style scoped>\n",
              "    .dataframe tbody tr th:only-of-type {\n",
              "        vertical-align: middle;\n",
              "    }\n",
              "\n",
              "    .dataframe tbody tr th {\n",
              "        vertical-align: top;\n",
              "    }\n",
              "\n",
              "    .dataframe thead th {\n",
              "        text-align: right;\n",
              "    }\n",
              "</style>\n",
              "<table border=\"1\" class=\"dataframe\">\n",
              "  <thead>\n",
              "    <tr style=\"text-align: right;\">\n",
              "      <th></th>\n",
              "      <th>crim</th>\n",
              "      <th>zn</th>\n",
              "      <th>indus</th>\n",
              "      <th>chas</th>\n",
              "      <th>nox</th>\n",
              "      <th>rm</th>\n",
              "      <th>age</th>\n",
              "      <th>dis</th>\n",
              "      <th>rad</th>\n",
              "      <th>tax</th>\n",
              "      <th>ptratio</th>\n",
              "      <th>b</th>\n",
              "      <th>lstat</th>\n",
              "      <th>medv</th>\n",
              "    </tr>\n",
              "  </thead>\n",
              "  <tbody>\n",
              "    <tr>\n",
              "      <th>0</th>\n",
              "      <td>0.00632</td>\n",
              "      <td>18.0</td>\n",
              "      <td>2.31</td>\n",
              "      <td>0</td>\n",
              "      <td>0.538</td>\n",
              "      <td>6.575</td>\n",
              "      <td>65.2</td>\n",
              "      <td>4.0900</td>\n",
              "      <td>1</td>\n",
              "      <td>296</td>\n",
              "      <td>15.3</td>\n",
              "      <td>396.90</td>\n",
              "      <td>4.98</td>\n",
              "      <td>24.0</td>\n",
              "    </tr>\n",
              "    <tr>\n",
              "      <th>1</th>\n",
              "      <td>0.02731</td>\n",
              "      <td>0.0</td>\n",
              "      <td>7.07</td>\n",
              "      <td>0</td>\n",
              "      <td>0.469</td>\n",
              "      <td>6.421</td>\n",
              "      <td>78.9</td>\n",
              "      <td>4.9671</td>\n",
              "      <td>2</td>\n",
              "      <td>242</td>\n",
              "      <td>17.8</td>\n",
              "      <td>396.90</td>\n",
              "      <td>9.14</td>\n",
              "      <td>21.6</td>\n",
              "    </tr>\n",
              "    <tr>\n",
              "      <th>2</th>\n",
              "      <td>0.02729</td>\n",
              "      <td>0.0</td>\n",
              "      <td>7.07</td>\n",
              "      <td>0</td>\n",
              "      <td>0.469</td>\n",
              "      <td>7.185</td>\n",
              "      <td>61.1</td>\n",
              "      <td>4.9671</td>\n",
              "      <td>2</td>\n",
              "      <td>242</td>\n",
              "      <td>17.8</td>\n",
              "      <td>392.83</td>\n",
              "      <td>4.03</td>\n",
              "      <td>34.7</td>\n",
              "    </tr>\n",
              "    <tr>\n",
              "      <th>3</th>\n",
              "      <td>0.03237</td>\n",
              "      <td>0.0</td>\n",
              "      <td>2.18</td>\n",
              "      <td>0</td>\n",
              "      <td>0.458</td>\n",
              "      <td>6.998</td>\n",
              "      <td>45.8</td>\n",
              "      <td>6.0622</td>\n",
              "      <td>3</td>\n",
              "      <td>222</td>\n",
              "      <td>18.7</td>\n",
              "      <td>394.63</td>\n",
              "      <td>2.94</td>\n",
              "      <td>33.4</td>\n",
              "    </tr>\n",
              "    <tr>\n",
              "      <th>4</th>\n",
              "      <td>0.06905</td>\n",
              "      <td>0.0</td>\n",
              "      <td>2.18</td>\n",
              "      <td>0</td>\n",
              "      <td>0.458</td>\n",
              "      <td>7.147</td>\n",
              "      <td>54.2</td>\n",
              "      <td>6.0622</td>\n",
              "      <td>3</td>\n",
              "      <td>222</td>\n",
              "      <td>18.7</td>\n",
              "      <td>396.90</td>\n",
              "      <td>5.33</td>\n",
              "      <td>36.2</td>\n",
              "    </tr>\n",
              "  </tbody>\n",
              "</table>\n",
              "</div>\n",
              "    <div class=\"colab-df-buttons\">\n",
              "\n",
              "  <div class=\"colab-df-container\">\n",
              "    <button class=\"colab-df-convert\" onclick=\"convertToInteractive('df-9b17c263-4ea7-43e9-abec-ed58610b7a34')\"\n",
              "            title=\"Convert this dataframe to an interactive table.\"\n",
              "            style=\"display:none;\">\n",
              "\n",
              "  <svg xmlns=\"http://www.w3.org/2000/svg\" height=\"24px\" viewBox=\"0 -960 960 960\">\n",
              "    <path d=\"M120-120v-720h720v720H120Zm60-500h600v-160H180v160Zm220 220h160v-160H400v160Zm0 220h160v-160H400v160ZM180-400h160v-160H180v160Zm440 0h160v-160H620v160ZM180-180h160v-160H180v160Zm440 0h160v-160H620v160Z\"/>\n",
              "  </svg>\n",
              "    </button>\n",
              "\n",
              "  <style>\n",
              "    .colab-df-container {\n",
              "      display:flex;\n",
              "      gap: 12px;\n",
              "    }\n",
              "\n",
              "    .colab-df-convert {\n",
              "      background-color: #E8F0FE;\n",
              "      border: none;\n",
              "      border-radius: 50%;\n",
              "      cursor: pointer;\n",
              "      display: none;\n",
              "      fill: #1967D2;\n",
              "      height: 32px;\n",
              "      padding: 0 0 0 0;\n",
              "      width: 32px;\n",
              "    }\n",
              "\n",
              "    .colab-df-convert:hover {\n",
              "      background-color: #E2EBFA;\n",
              "      box-shadow: 0px 1px 2px rgba(60, 64, 67, 0.3), 0px 1px 3px 1px rgba(60, 64, 67, 0.15);\n",
              "      fill: #174EA6;\n",
              "    }\n",
              "\n",
              "    .colab-df-buttons div {\n",
              "      margin-bottom: 4px;\n",
              "    }\n",
              "\n",
              "    [theme=dark] .colab-df-convert {\n",
              "      background-color: #3B4455;\n",
              "      fill: #D2E3FC;\n",
              "    }\n",
              "\n",
              "    [theme=dark] .colab-df-convert:hover {\n",
              "      background-color: #434B5C;\n",
              "      box-shadow: 0px 1px 3px 1px rgba(0, 0, 0, 0.15);\n",
              "      filter: drop-shadow(0px 1px 2px rgba(0, 0, 0, 0.3));\n",
              "      fill: #FFFFFF;\n",
              "    }\n",
              "  </style>\n",
              "\n",
              "    <script>\n",
              "      const buttonEl =\n",
              "        document.querySelector('#df-9b17c263-4ea7-43e9-abec-ed58610b7a34 button.colab-df-convert');\n",
              "      buttonEl.style.display =\n",
              "        google.colab.kernel.accessAllowed ? 'block' : 'none';\n",
              "\n",
              "      async function convertToInteractive(key) {\n",
              "        const element = document.querySelector('#df-9b17c263-4ea7-43e9-abec-ed58610b7a34');\n",
              "        const dataTable =\n",
              "          await google.colab.kernel.invokeFunction('convertToInteractive',\n",
              "                                                    [key], {});\n",
              "        if (!dataTable) return;\n",
              "\n",
              "        const docLinkHtml = 'Like what you see? Visit the ' +\n",
              "          '<a target=\"_blank\" href=https://colab.research.google.com/notebooks/data_table.ipynb>data table notebook</a>'\n",
              "          + ' to learn more about interactive tables.';\n",
              "        element.innerHTML = '';\n",
              "        dataTable['output_type'] = 'display_data';\n",
              "        await google.colab.output.renderOutput(dataTable, element);\n",
              "        const docLink = document.createElement('div');\n",
              "        docLink.innerHTML = docLinkHtml;\n",
              "        element.appendChild(docLink);\n",
              "      }\n",
              "    </script>\n",
              "  </div>\n",
              "\n",
              "\n",
              "<div id=\"df-ca9125cf-babe-403b-bc92-d34c6784f1bc\">\n",
              "  <button class=\"colab-df-quickchart\" onclick=\"quickchart('df-ca9125cf-babe-403b-bc92-d34c6784f1bc')\"\n",
              "            title=\"Suggest charts\"\n",
              "            style=\"display:none;\">\n",
              "\n",
              "<svg xmlns=\"http://www.w3.org/2000/svg\" height=\"24px\"viewBox=\"0 0 24 24\"\n",
              "     width=\"24px\">\n",
              "    <g>\n",
              "        <path d=\"M19 3H5c-1.1 0-2 .9-2 2v14c0 1.1.9 2 2 2h14c1.1 0 2-.9 2-2V5c0-1.1-.9-2-2-2zM9 17H7v-7h2v7zm4 0h-2V7h2v10zm4 0h-2v-4h2v4z\"/>\n",
              "    </g>\n",
              "</svg>\n",
              "  </button>\n",
              "\n",
              "<style>\n",
              "  .colab-df-quickchart {\n",
              "      --bg-color: #E8F0FE;\n",
              "      --fill-color: #1967D2;\n",
              "      --hover-bg-color: #E2EBFA;\n",
              "      --hover-fill-color: #174EA6;\n",
              "      --disabled-fill-color: #AAA;\n",
              "      --disabled-bg-color: #DDD;\n",
              "  }\n",
              "\n",
              "  [theme=dark] .colab-df-quickchart {\n",
              "      --bg-color: #3B4455;\n",
              "      --fill-color: #D2E3FC;\n",
              "      --hover-bg-color: #434B5C;\n",
              "      --hover-fill-color: #FFFFFF;\n",
              "      --disabled-bg-color: #3B4455;\n",
              "      --disabled-fill-color: #666;\n",
              "  }\n",
              "\n",
              "  .colab-df-quickchart {\n",
              "    background-color: var(--bg-color);\n",
              "    border: none;\n",
              "    border-radius: 50%;\n",
              "    cursor: pointer;\n",
              "    display: none;\n",
              "    fill: var(--fill-color);\n",
              "    height: 32px;\n",
              "    padding: 0;\n",
              "    width: 32px;\n",
              "  }\n",
              "\n",
              "  .colab-df-quickchart:hover {\n",
              "    background-color: var(--hover-bg-color);\n",
              "    box-shadow: 0 1px 2px rgba(60, 64, 67, 0.3), 0 1px 3px 1px rgba(60, 64, 67, 0.15);\n",
              "    fill: var(--button-hover-fill-color);\n",
              "  }\n",
              "\n",
              "  .colab-df-quickchart-complete:disabled,\n",
              "  .colab-df-quickchart-complete:disabled:hover {\n",
              "    background-color: var(--disabled-bg-color);\n",
              "    fill: var(--disabled-fill-color);\n",
              "    box-shadow: none;\n",
              "  }\n",
              "\n",
              "  .colab-df-spinner {\n",
              "    border: 2px solid var(--fill-color);\n",
              "    border-color: transparent;\n",
              "    border-bottom-color: var(--fill-color);\n",
              "    animation:\n",
              "      spin 1s steps(1) infinite;\n",
              "  }\n",
              "\n",
              "  @keyframes spin {\n",
              "    0% {\n",
              "      border-color: transparent;\n",
              "      border-bottom-color: var(--fill-color);\n",
              "      border-left-color: var(--fill-color);\n",
              "    }\n",
              "    20% {\n",
              "      border-color: transparent;\n",
              "      border-left-color: var(--fill-color);\n",
              "      border-top-color: var(--fill-color);\n",
              "    }\n",
              "    30% {\n",
              "      border-color: transparent;\n",
              "      border-left-color: var(--fill-color);\n",
              "      border-top-color: var(--fill-color);\n",
              "      border-right-color: var(--fill-color);\n",
              "    }\n",
              "    40% {\n",
              "      border-color: transparent;\n",
              "      border-right-color: var(--fill-color);\n",
              "      border-top-color: var(--fill-color);\n",
              "    }\n",
              "    60% {\n",
              "      border-color: transparent;\n",
              "      border-right-color: var(--fill-color);\n",
              "    }\n",
              "    80% {\n",
              "      border-color: transparent;\n",
              "      border-right-color: var(--fill-color);\n",
              "      border-bottom-color: var(--fill-color);\n",
              "    }\n",
              "    90% {\n",
              "      border-color: transparent;\n",
              "      border-bottom-color: var(--fill-color);\n",
              "    }\n",
              "  }\n",
              "</style>\n",
              "\n",
              "  <script>\n",
              "    async function quickchart(key) {\n",
              "      const quickchartButtonEl =\n",
              "        document.querySelector('#' + key + ' button');\n",
              "      quickchartButtonEl.disabled = true;  // To prevent multiple clicks.\n",
              "      quickchartButtonEl.classList.add('colab-df-spinner');\n",
              "      try {\n",
              "        const charts = await google.colab.kernel.invokeFunction(\n",
              "            'suggestCharts', [key], {});\n",
              "      } catch (error) {\n",
              "        console.error('Error during call to suggestCharts:', error);\n",
              "      }\n",
              "      quickchartButtonEl.classList.remove('colab-df-spinner');\n",
              "      quickchartButtonEl.classList.add('colab-df-quickchart-complete');\n",
              "    }\n",
              "    (() => {\n",
              "      let quickchartButtonEl =\n",
              "        document.querySelector('#df-ca9125cf-babe-403b-bc92-d34c6784f1bc button');\n",
              "      quickchartButtonEl.style.display =\n",
              "        google.colab.kernel.accessAllowed ? 'block' : 'none';\n",
              "    })();\n",
              "  </script>\n",
              "</div>\n",
              "    </div>\n",
              "  </div>\n"
            ],
            "application/vnd.google.colaboratory.intrinsic+json": {
              "type": "dataframe",
              "variable_name": "df",
              "summary": "{\n  \"name\": \"df\",\n  \"rows\": 506,\n  \"fields\": [\n    {\n      \"column\": \"crim\",\n      \"properties\": {\n        \"dtype\": \"number\",\n        \"std\": 8.60154510533249,\n        \"min\": 0.00632,\n        \"max\": 88.9762,\n        \"num_unique_values\": 504,\n        \"samples\": [\n          0.09178,\n          0.05644,\n          0.10574\n        ],\n        \"semantic_type\": \"\",\n        \"description\": \"\"\n      }\n    },\n    {\n      \"column\": \"zn\",\n      \"properties\": {\n        \"dtype\": \"number\",\n        \"std\": 23.32245299451514,\n        \"min\": 0.0,\n        \"max\": 100.0,\n        \"num_unique_values\": 26,\n        \"samples\": [\n          25.0,\n          30.0,\n          18.0\n        ],\n        \"semantic_type\": \"\",\n        \"description\": \"\"\n      }\n    },\n    {\n      \"column\": \"indus\",\n      \"properties\": {\n        \"dtype\": \"number\",\n        \"std\": 6.860352940897585,\n        \"min\": 0.46,\n        \"max\": 27.74,\n        \"num_unique_values\": 76,\n        \"samples\": [\n          8.14,\n          1.47,\n          1.22\n        ],\n        \"semantic_type\": \"\",\n        \"description\": \"\"\n      }\n    },\n    {\n      \"column\": \"chas\",\n      \"properties\": {\n        \"dtype\": \"number\",\n        \"std\": 0,\n        \"min\": 0,\n        \"max\": 1,\n        \"num_unique_values\": 2,\n        \"samples\": [\n          1,\n          0\n        ],\n        \"semantic_type\": \"\",\n        \"description\": \"\"\n      }\n    },\n    {\n      \"column\": \"nox\",\n      \"properties\": {\n        \"dtype\": \"number\",\n        \"std\": 0.11587767566755595,\n        \"min\": 0.385,\n        \"max\": 0.871,\n        \"num_unique_values\": 81,\n        \"samples\": [\n          0.401,\n          0.538\n        ],\n        \"semantic_type\": \"\",\n        \"description\": \"\"\n      }\n    },\n    {\n      \"column\": \"rm\",\n      \"properties\": {\n        \"dtype\": \"number\",\n        \"std\": 0.7026171434153233,\n        \"min\": 3.561,\n        \"max\": 8.78,\n        \"num_unique_values\": 446,\n        \"samples\": [\n          6.849,\n          4.88\n        ],\n        \"semantic_type\": \"\",\n        \"description\": \"\"\n      }\n    },\n    {\n      \"column\": \"age\",\n      \"properties\": {\n        \"dtype\": \"number\",\n        \"std\": 28.148861406903617,\n        \"min\": 2.9,\n        \"max\": 100.0,\n        \"num_unique_values\": 356,\n        \"samples\": [\n          51.8,\n          33.8\n        ],\n        \"semantic_type\": \"\",\n        \"description\": \"\"\n      }\n    },\n    {\n      \"column\": \"dis\",\n      \"properties\": {\n        \"dtype\": \"number\",\n        \"std\": 2.105710126627611,\n        \"min\": 1.1296,\n        \"max\": 12.1265,\n        \"num_unique_values\": 412,\n        \"samples\": [\n          2.2955,\n          4.2515\n        ],\n        \"semantic_type\": \"\",\n        \"description\": \"\"\n      }\n    },\n    {\n      \"column\": \"rad\",\n      \"properties\": {\n        \"dtype\": \"number\",\n        \"std\": 8,\n        \"min\": 1,\n        \"max\": 24,\n        \"num_unique_values\": 9,\n        \"samples\": [\n          7,\n          2\n        ],\n        \"semantic_type\": \"\",\n        \"description\": \"\"\n      }\n    },\n    {\n      \"column\": \"tax\",\n      \"properties\": {\n        \"dtype\": \"number\",\n        \"std\": 168,\n        \"min\": 187,\n        \"max\": 711,\n        \"num_unique_values\": 66,\n        \"samples\": [\n          370,\n          666\n        ],\n        \"semantic_type\": \"\",\n        \"description\": \"\"\n      }\n    },\n    {\n      \"column\": \"ptratio\",\n      \"properties\": {\n        \"dtype\": \"number\",\n        \"std\": 2.1649455237144406,\n        \"min\": 12.6,\n        \"max\": 22.0,\n        \"num_unique_values\": 46,\n        \"samples\": [\n          19.6,\n          15.6\n        ],\n        \"semantic_type\": \"\",\n        \"description\": \"\"\n      }\n    },\n    {\n      \"column\": \"b\",\n      \"properties\": {\n        \"dtype\": \"number\",\n        \"std\": 91.29486438415783,\n        \"min\": 0.32,\n        \"max\": 396.9,\n        \"num_unique_values\": 357,\n        \"samples\": [\n          396.24,\n          395.11\n        ],\n        \"semantic_type\": \"\",\n        \"description\": \"\"\n      }\n    },\n    {\n      \"column\": \"lstat\",\n      \"properties\": {\n        \"dtype\": \"number\",\n        \"std\": 7.141061511348571,\n        \"min\": 1.73,\n        \"max\": 37.97,\n        \"num_unique_values\": 455,\n        \"samples\": [\n          6.15,\n          4.32\n        ],\n        \"semantic_type\": \"\",\n        \"description\": \"\"\n      }\n    },\n    {\n      \"column\": \"medv\",\n      \"properties\": {\n        \"dtype\": \"number\",\n        \"std\": 9.197104087379818,\n        \"min\": 5.0,\n        \"max\": 50.0,\n        \"num_unique_values\": 229,\n        \"samples\": [\n          14.1,\n          22.5\n        ],\n        \"semantic_type\": \"\",\n        \"description\": \"\"\n      }\n    }\n  ]\n}"
            }
          },
          "metadata": {},
          "execution_count": 202
        }
      ]
    },
    {
      "cell_type": "markdown",
      "source": [
        "#3. Procesamiento y estandarización de datos"
      ],
      "metadata": {
        "id": "YKTqjSGZYR8g"
      }
    },
    {
      "cell_type": "code",
      "source": [
        "# Estandarización de las características numéricas\n",
        "scaler = StandardScaler()\n",
        "numeric_cols = df.select_dtypes(include=[float, int]).columns\n",
        "df[numeric_cols] = scaler.fit_transform(df[numeric_cols])\n"
      ],
      "metadata": {
        "id": "EkwIA107TZRE"
      },
      "execution_count": null,
      "outputs": []
    },
    {
      "cell_type": "markdown",
      "source": [
        "La estandarización es un proceso común en el preprocesamiento de datos para asegurarse de que todas las características tengan la misma escala. En este caso, se utiliza la clase StandardScaler de scikit-learn para centrar las características alrededor de cero y escalarlas para tener una desviación estándar unitaria."
      ],
      "metadata": {
        "id": "RVdDFbeBf_Ey"
      }
    },
    {
      "cell_type": "code",
      "source": [
        "# Calcular el rango intercuartil solo para columnas numéricas\n",
        "numeric_cols = df.select_dtypes(include=[float, int]).columns\n",
        "Q1 = df[numeric_cols].quantile(0.25)\n",
        "Q3 = df[numeric_cols].quantile(0.75)\n",
        "IQR = Q3 - Q1\n",
        "\n",
        "# Definir un umbral para identificar los valores extremos\n",
        "threshold = 0.7\n",
        "lower_threshold = Q1 - threshold * IQR\n",
        "upper_threshold = Q3 + threshold * IQR\n",
        "\n",
        "# Eliminar las filas con valores extremos\n",
        "df = df[~((df[numeric_cols] < lower_threshold) | (df[numeric_cols] > upper_threshold)).any(axis=1)]"
      ],
      "metadata": {
        "id": "T_MwH1IiRrC8"
      },
      "execution_count": null,
      "outputs": []
    },
    {
      "cell_type": "markdown",
      "source": [
        "En este extracto de código se calcula el rango intercuartil (IQR) para las columnas numéricas de un conjunto de datos. El IQR es una medida de dispersión estadística que se utiliza para identificar la variabilidad en los datos. Se calcula como la diferencia entre el tercer cuartil (Q3) y el primer cuartil (Q1) de un conjunto de datos. Luego, se define un umbral multiplicativo (en este caso, 0.7) para identificar valores extremos. Los valores que están por debajo del cuartil Q1 menos el umbral multiplicativo del IQR y por encima del cuartil Q3 más el umbral multiplicativo del IQR se consideran valores extremos. Finalmente, se eliminan las filas que contienen al menos un valor extremo en las columnas numéricas.\n",
        "\n",
        "\n",
        "\n",
        "\n",
        "\n"
      ],
      "metadata": {
        "id": "4zEkOPjCgIzf"
      }
    },
    {
      "cell_type": "markdown",
      "source": [
        "# 4. División de conjunto de datos para entrenamiento, validación y test"
      ],
      "metadata": {
        "id": "vskU_LYPZR3H"
      }
    },
    {
      "cell_type": "code",
      "source": [
        "# Extraer la característica 'rm' (número promedio de habitaciones por vivienda) y el objetivo 'medv' (valor medio de las viviendas ocupadas por sus propietarios)\n",
        "X = df[['rm']].values\n",
        "y = df['medv'].values"
      ],
      "metadata": {
        "id": "GBTSdHR_I6TT"
      },
      "execution_count": null,
      "outputs": []
    },
    {
      "cell_type": "markdown",
      "source": [
        "EL código se encarga de extraer dos variables de interés de un conjunto de datos. En particular, selecciona la característica 'rm', que representa el número promedio de habitaciones por vivienda, y el objetivo 'medv', que indica el valor medio de las viviendas ocupadas por sus propietarios. Luego, convierte estas variables en matrices numpy para su posterior uso en un modelo de aprendizaje automático.\n",
        "\n",
        "Para dividir los datos en conjunto de entrenamiento, validación y prueba se utiliza train_test_split tal como se muestra a continuación:\n",
        "\n",
        "\n",
        "\n",
        "\n",
        "\n"
      ],
      "metadata": {
        "id": "1JjFAjJlgN0u"
      }
    },
    {
      "cell_type": "code",
      "source": [
        "X_train, X_temp, y_train, y_temp = train_test_split(X, y, test_size=0.3, random_state=42)\n",
        "X_val, X_test, y_val, y_test = train_test_split(X_temp, y_temp, test_size=0.5, random_state=42)\n",
        "\n",
        "X_train = X_train.reshape(-1, 1)\n",
        "X_val = X_val.reshape(-1, 1)\n",
        "X_test = X_test.reshape(-1, 1)\n"
      ],
      "metadata": {
        "id": "D9ARFCF7JP_s"
      },
      "execution_count": null,
      "outputs": []
    },
    {
      "cell_type": "markdown",
      "source": [
        "EL código realiza una división de los datos en tres conjuntos: entrenamiento, validación y prueba. En primer lugar, divide el conjunto de características (X) y el objetivo (y) en dos partes, una para entrenamiento y otra combinada para validación y prueba, utilizando la función train_test_split. Luego, toma esa segunda parte y la divide nuevamente en dos partes iguales, una para validación y otra para prueba. Después, modifica la forma de las características para que tengan una sola columna, debido a que el modelo de aprendizaje automático espera una matriz bidimensional de características."
      ],
      "metadata": {
        "id": "BP-21jAHgXUT"
      }
    },
    {
      "cell_type": "markdown",
      "source": [
        "# 5. Capas del modelo de regresión con un perceptrón\n"
      ],
      "metadata": {
        "id": "auj-ggHwZa_L"
      }
    },
    {
      "cell_type": "code",
      "source": [
        "model = Sequential()\n",
        "model.add(Dense(1, input_dim=1, kernel_initializer='uniform', activation='linear'))\n",
        "model.compile(optimizer='adam', loss='mean_squared_error', metrics=['mean_squared_error'])"
      ],
      "metadata": {
        "id": "fcTpoSrVJVZ_"
      },
      "execution_count": null,
      "outputs": []
    },
    {
      "cell_type": "markdown",
      "source": [
        "Se crea un modelo secuencial con Keras con una capa densa para la regresión. La red consta de una capa densa con una sola neurona. La capa tiene una dimensión de entrada de 1, lo que significa que espera un solo atributo de entrada. La inicialización del kernel se establece en 'uniform', lo que significa que los pesos de la capa se inicializan de manera uniforme. La función de activación se establece en 'linear', lo que indica que la capa es una simple operación lineal. La compilación del modelo se realiza utilizando el optimizador 'adam' y la función de pérdida 'mean_squared_error'. Además, se especifica que la métrica de evaluación durante el entrenamiento será el error cuadrático medio (mean_squared_error)."
      ],
      "metadata": {
        "id": "dd2QXuI7gm_p"
      }
    },
    {
      "cell_type": "markdown",
      "source": [
        "# 6. Resumen de capas de la red\n",
        "\n",
        "Se muestra el resumen del modelo para examinar la arquitectura de la red.\n"
      ],
      "metadata": {
        "id": "ypOGgeb0Zkqd"
      }
    },
    {
      "cell_type": "code",
      "source": [
        "model.summary()"
      ],
      "metadata": {
        "colab": {
          "base_uri": "https://localhost:8080/"
        },
        "id": "P0zVJ6OqaC1N",
        "outputId": "40699427-57a6-4212-faf3-03399b350236"
      },
      "execution_count": null,
      "outputs": [
        {
          "output_type": "stream",
          "name": "stdout",
          "text": [
            "Model: \"sequential_15\"\n",
            "_________________________________________________________________\n",
            " Layer (type)                Output Shape              Param #   \n",
            "=================================================================\n",
            " dense_15 (Dense)            (None, 1)                 2         \n",
            "                                                                 \n",
            "=================================================================\n",
            "Total params: 2 (8.00 Byte)\n",
            "Trainable params: 2 (8.00 Byte)\n",
            "Non-trainable params: 0 (0.00 Byte)\n",
            "_________________________________________________________________\n"
          ]
        }
      ]
    },
    {
      "cell_type": "markdown",
      "source": [
        "Este es un modelo secuencial de una sola capa densa. La capa densa tiene una salida de forma (None, 1), lo que significa que produce una sola salida para cada entrada. Tiene 2 parámetros entrenables (pesos y sesgos), lo que se refleja en el total de parámetros del modelo, que es 2. No hay parámetros no entrenables en este modelo.\n",
        "\n",
        "\n",
        "\n",
        "\n",
        "\n"
      ],
      "metadata": {
        "id": "BMx9hWdwgwYA"
      }
    },
    {
      "cell_type": "markdown",
      "source": [
        "# 7. Argumentos del método de entrenamiento del modelo perceptrón\n",
        "Se compila y entrena el modelo especificando los parámetros como epochs, batch_size y datos de validación.\n"
      ],
      "metadata": {
        "id": "vGFvgOPTJehk"
      }
    },
    {
      "cell_type": "code",
      "source": [
        "history = model.fit(X_train, y_train, epochs=150, batch_size=32, validation_data=(X_val, y_val), verbose=1)\n"
      ],
      "metadata": {
        "id": "1A02z_ABJh80",
        "colab": {
          "base_uri": "https://localhost:8080/"
        },
        "outputId": "bc91db58-834f-4825-f0f8-e279c9fc6bcc"
      },
      "execution_count": null,
      "outputs": [
        {
          "output_type": "stream",
          "name": "stdout",
          "text": [
            "Epoch 1/150\n",
            "4/4 [==============================] - 1s 54ms/step - loss: 0.1661 - mean_squared_error: 0.1661 - val_loss: 0.1700 - val_mean_squared_error: 0.1700\n",
            "Epoch 2/150\n",
            "4/4 [==============================] - 0s 10ms/step - loss: 0.1642 - mean_squared_error: 0.1642 - val_loss: 0.1679 - val_mean_squared_error: 0.1679\n",
            "Epoch 3/150\n",
            "4/4 [==============================] - 0s 11ms/step - loss: 0.1623 - mean_squared_error: 0.1623 - val_loss: 0.1660 - val_mean_squared_error: 0.1660\n",
            "Epoch 4/150\n",
            "4/4 [==============================] - 0s 10ms/step - loss: 0.1608 - mean_squared_error: 0.1608 - val_loss: 0.1641 - val_mean_squared_error: 0.1641\n",
            "Epoch 5/150\n",
            "4/4 [==============================] - 0s 17ms/step - loss: 0.1590 - mean_squared_error: 0.1590 - val_loss: 0.1623 - val_mean_squared_error: 0.1623\n",
            "Epoch 6/150\n",
            "4/4 [==============================] - 0s 11ms/step - loss: 0.1577 - mean_squared_error: 0.1577 - val_loss: 0.1606 - val_mean_squared_error: 0.1606\n",
            "Epoch 7/150\n",
            "4/4 [==============================] - 0s 11ms/step - loss: 0.1559 - mean_squared_error: 0.1559 - val_loss: 0.1590 - val_mean_squared_error: 0.1590\n",
            "Epoch 8/150\n",
            "4/4 [==============================] - 0s 12ms/step - loss: 0.1545 - mean_squared_error: 0.1545 - val_loss: 0.1574 - val_mean_squared_error: 0.1574\n",
            "Epoch 9/150\n",
            "4/4 [==============================] - 0s 12ms/step - loss: 0.1532 - mean_squared_error: 0.1532 - val_loss: 0.1558 - val_mean_squared_error: 0.1558\n",
            "Epoch 10/150\n",
            "4/4 [==============================] - 0s 11ms/step - loss: 0.1518 - mean_squared_error: 0.1518 - val_loss: 0.1544 - val_mean_squared_error: 0.1544\n",
            "Epoch 11/150\n",
            "4/4 [==============================] - 0s 13ms/step - loss: 0.1504 - mean_squared_error: 0.1504 - val_loss: 0.1530 - val_mean_squared_error: 0.1530\n",
            "Epoch 12/150\n",
            "4/4 [==============================] - 0s 11ms/step - loss: 0.1493 - mean_squared_error: 0.1493 - val_loss: 0.1515 - val_mean_squared_error: 0.1515\n",
            "Epoch 13/150\n",
            "4/4 [==============================] - 0s 11ms/step - loss: 0.1481 - mean_squared_error: 0.1481 - val_loss: 0.1502 - val_mean_squared_error: 0.1502\n",
            "Epoch 14/150\n",
            "4/4 [==============================] - 0s 11ms/step - loss: 0.1469 - mean_squared_error: 0.1469 - val_loss: 0.1489 - val_mean_squared_error: 0.1489\n",
            "Epoch 15/150\n",
            "4/4 [==============================] - 0s 11ms/step - loss: 0.1458 - mean_squared_error: 0.1458 - val_loss: 0.1477 - val_mean_squared_error: 0.1477\n",
            "Epoch 16/150\n",
            "4/4 [==============================] - 0s 11ms/step - loss: 0.1446 - mean_squared_error: 0.1446 - val_loss: 0.1466 - val_mean_squared_error: 0.1466\n",
            "Epoch 17/150\n",
            "4/4 [==============================] - 0s 12ms/step - loss: 0.1437 - mean_squared_error: 0.1437 - val_loss: 0.1454 - val_mean_squared_error: 0.1454\n",
            "Epoch 18/150\n",
            "4/4 [==============================] - 0s 11ms/step - loss: 0.1427 - mean_squared_error: 0.1427 - val_loss: 0.1444 - val_mean_squared_error: 0.1444\n",
            "Epoch 19/150\n",
            "4/4 [==============================] - 0s 11ms/step - loss: 0.1418 - mean_squared_error: 0.1418 - val_loss: 0.1433 - val_mean_squared_error: 0.1433\n",
            "Epoch 20/150\n",
            "4/4 [==============================] - 0s 11ms/step - loss: 0.1408 - mean_squared_error: 0.1408 - val_loss: 0.1424 - val_mean_squared_error: 0.1424\n",
            "Epoch 21/150\n",
            "4/4 [==============================] - 0s 12ms/step - loss: 0.1400 - mean_squared_error: 0.1400 - val_loss: 0.1415 - val_mean_squared_error: 0.1415\n",
            "Epoch 22/150\n",
            "4/4 [==============================] - 0s 11ms/step - loss: 0.1392 - mean_squared_error: 0.1392 - val_loss: 0.1406 - val_mean_squared_error: 0.1406\n",
            "Epoch 23/150\n",
            "4/4 [==============================] - 0s 11ms/step - loss: 0.1384 - mean_squared_error: 0.1384 - val_loss: 0.1397 - val_mean_squared_error: 0.1397\n",
            "Epoch 24/150\n",
            "4/4 [==============================] - 0s 14ms/step - loss: 0.1376 - mean_squared_error: 0.1376 - val_loss: 0.1389 - val_mean_squared_error: 0.1389\n",
            "Epoch 25/150\n",
            "4/4 [==============================] - 0s 11ms/step - loss: 0.1369 - mean_squared_error: 0.1369 - val_loss: 0.1381 - val_mean_squared_error: 0.1381\n",
            "Epoch 26/150\n",
            "4/4 [==============================] - 0s 11ms/step - loss: 0.1361 - mean_squared_error: 0.1361 - val_loss: 0.1375 - val_mean_squared_error: 0.1375\n",
            "Epoch 27/150\n",
            "4/4 [==============================] - 0s 11ms/step - loss: 0.1355 - mean_squared_error: 0.1355 - val_loss: 0.1368 - val_mean_squared_error: 0.1368\n",
            "Epoch 28/150\n",
            "4/4 [==============================] - 0s 11ms/step - loss: 0.1349 - mean_squared_error: 0.1349 - val_loss: 0.1361 - val_mean_squared_error: 0.1361\n",
            "Epoch 29/150\n",
            "4/4 [==============================] - 0s 12ms/step - loss: 0.1342 - mean_squared_error: 0.1342 - val_loss: 0.1355 - val_mean_squared_error: 0.1355\n",
            "Epoch 30/150\n",
            "4/4 [==============================] - 0s 10ms/step - loss: 0.1336 - mean_squared_error: 0.1336 - val_loss: 0.1349 - val_mean_squared_error: 0.1349\n",
            "Epoch 31/150\n",
            "4/4 [==============================] - 0s 12ms/step - loss: 0.1331 - mean_squared_error: 0.1331 - val_loss: 0.1343 - val_mean_squared_error: 0.1343\n",
            "Epoch 32/150\n",
            "4/4 [==============================] - 0s 11ms/step - loss: 0.1325 - mean_squared_error: 0.1325 - val_loss: 0.1338 - val_mean_squared_error: 0.1338\n",
            "Epoch 33/150\n",
            "4/4 [==============================] - 0s 10ms/step - loss: 0.1320 - mean_squared_error: 0.1320 - val_loss: 0.1332 - val_mean_squared_error: 0.1332\n",
            "Epoch 34/150\n",
            "4/4 [==============================] - 0s 12ms/step - loss: 0.1315 - mean_squared_error: 0.1315 - val_loss: 0.1327 - val_mean_squared_error: 0.1327\n",
            "Epoch 35/150\n",
            "4/4 [==============================] - 0s 11ms/step - loss: 0.1310 - mean_squared_error: 0.1310 - val_loss: 0.1322 - val_mean_squared_error: 0.1322\n",
            "Epoch 36/150\n",
            "4/4 [==============================] - 0s 10ms/step - loss: 0.1305 - mean_squared_error: 0.1305 - val_loss: 0.1318 - val_mean_squared_error: 0.1318\n",
            "Epoch 37/150\n",
            "4/4 [==============================] - 0s 11ms/step - loss: 0.1301 - mean_squared_error: 0.1301 - val_loss: 0.1314 - val_mean_squared_error: 0.1314\n",
            "Epoch 38/150\n",
            "4/4 [==============================] - 0s 10ms/step - loss: 0.1296 - mean_squared_error: 0.1296 - val_loss: 0.1309 - val_mean_squared_error: 0.1309\n",
            "Epoch 39/150\n",
            "4/4 [==============================] - 0s 11ms/step - loss: 0.1292 - mean_squared_error: 0.1292 - val_loss: 0.1306 - val_mean_squared_error: 0.1306\n",
            "Epoch 40/150\n",
            "4/4 [==============================] - 0s 12ms/step - loss: 0.1288 - mean_squared_error: 0.1288 - val_loss: 0.1303 - val_mean_squared_error: 0.1303\n",
            "Epoch 41/150\n",
            "4/4 [==============================] - 0s 11ms/step - loss: 0.1284 - mean_squared_error: 0.1284 - val_loss: 0.1299 - val_mean_squared_error: 0.1299\n",
            "Epoch 42/150\n",
            "4/4 [==============================] - 0s 11ms/step - loss: 0.1280 - mean_squared_error: 0.1280 - val_loss: 0.1296 - val_mean_squared_error: 0.1296\n",
            "Epoch 43/150\n",
            "4/4 [==============================] - 0s 11ms/step - loss: 0.1276 - mean_squared_error: 0.1276 - val_loss: 0.1293 - val_mean_squared_error: 0.1293\n",
            "Epoch 44/150\n",
            "4/4 [==============================] - 0s 11ms/step - loss: 0.1272 - mean_squared_error: 0.1272 - val_loss: 0.1291 - val_mean_squared_error: 0.1291\n",
            "Epoch 45/150\n",
            "4/4 [==============================] - 0s 17ms/step - loss: 0.1269 - mean_squared_error: 0.1269 - val_loss: 0.1288 - val_mean_squared_error: 0.1288\n",
            "Epoch 46/150\n",
            "4/4 [==============================] - 0s 11ms/step - loss: 0.1265 - mean_squared_error: 0.1265 - val_loss: 0.1286 - val_mean_squared_error: 0.1286\n",
            "Epoch 47/150\n",
            "4/4 [==============================] - 0s 11ms/step - loss: 0.1262 - mean_squared_error: 0.1262 - val_loss: 0.1283 - val_mean_squared_error: 0.1283\n",
            "Epoch 48/150\n",
            "4/4 [==============================] - 0s 11ms/step - loss: 0.1259 - mean_squared_error: 0.1259 - val_loss: 0.1281 - val_mean_squared_error: 0.1281\n",
            "Epoch 49/150\n",
            "4/4 [==============================] - 0s 10ms/step - loss: 0.1256 - mean_squared_error: 0.1256 - val_loss: 0.1279 - val_mean_squared_error: 0.1279\n",
            "Epoch 50/150\n",
            "4/4 [==============================] - 0s 10ms/step - loss: 0.1253 - mean_squared_error: 0.1253 - val_loss: 0.1277 - val_mean_squared_error: 0.1277\n",
            "Epoch 51/150\n",
            "4/4 [==============================] - 0s 11ms/step - loss: 0.1250 - mean_squared_error: 0.1250 - val_loss: 0.1274 - val_mean_squared_error: 0.1274\n",
            "Epoch 52/150\n",
            "4/4 [==============================] - 0s 12ms/step - loss: 0.1247 - mean_squared_error: 0.1247 - val_loss: 0.1272 - val_mean_squared_error: 0.1272\n",
            "Epoch 53/150\n",
            "4/4 [==============================] - 0s 11ms/step - loss: 0.1244 - mean_squared_error: 0.1244 - val_loss: 0.1271 - val_mean_squared_error: 0.1271\n",
            "Epoch 54/150\n",
            "4/4 [==============================] - 0s 11ms/step - loss: 0.1241 - mean_squared_error: 0.1241 - val_loss: 0.1269 - val_mean_squared_error: 0.1269\n",
            "Epoch 55/150\n",
            "4/4 [==============================] - 0s 11ms/step - loss: 0.1238 - mean_squared_error: 0.1238 - val_loss: 0.1267 - val_mean_squared_error: 0.1267\n",
            "Epoch 56/150\n",
            "4/4 [==============================] - 0s 11ms/step - loss: 0.1235 - mean_squared_error: 0.1235 - val_loss: 0.1265 - val_mean_squared_error: 0.1265\n",
            "Epoch 57/150\n",
            "4/4 [==============================] - 0s 11ms/step - loss: 0.1233 - mean_squared_error: 0.1233 - val_loss: 0.1264 - val_mean_squared_error: 0.1264\n",
            "Epoch 58/150\n",
            "4/4 [==============================] - 0s 11ms/step - loss: 0.1230 - mean_squared_error: 0.1230 - val_loss: 0.1263 - val_mean_squared_error: 0.1263\n",
            "Epoch 59/150\n",
            "4/4 [==============================] - 0s 11ms/step - loss: 0.1228 - mean_squared_error: 0.1228 - val_loss: 0.1261 - val_mean_squared_error: 0.1261\n",
            "Epoch 60/150\n",
            "4/4 [==============================] - 0s 11ms/step - loss: 0.1225 - mean_squared_error: 0.1225 - val_loss: 0.1260 - val_mean_squared_error: 0.1260\n",
            "Epoch 61/150\n",
            "4/4 [==============================] - 0s 10ms/step - loss: 0.1223 - mean_squared_error: 0.1223 - val_loss: 0.1259 - val_mean_squared_error: 0.1259\n",
            "Epoch 62/150\n",
            "4/4 [==============================] - 0s 11ms/step - loss: 0.1220 - mean_squared_error: 0.1220 - val_loss: 0.1258 - val_mean_squared_error: 0.1258\n",
            "Epoch 63/150\n",
            "4/4 [==============================] - 0s 11ms/step - loss: 0.1218 - mean_squared_error: 0.1218 - val_loss: 0.1256 - val_mean_squared_error: 0.1256\n",
            "Epoch 64/150\n",
            "4/4 [==============================] - 0s 10ms/step - loss: 0.1215 - mean_squared_error: 0.1215 - val_loss: 0.1255 - val_mean_squared_error: 0.1255\n",
            "Epoch 65/150\n",
            "4/4 [==============================] - 0s 11ms/step - loss: 0.1213 - mean_squared_error: 0.1213 - val_loss: 0.1254 - val_mean_squared_error: 0.1254\n",
            "Epoch 66/150\n",
            "4/4 [==============================] - 0s 17ms/step - loss: 0.1211 - mean_squared_error: 0.1211 - val_loss: 0.1252 - val_mean_squared_error: 0.1252\n",
            "Epoch 67/150\n",
            "4/4 [==============================] - 0s 16ms/step - loss: 0.1209 - mean_squared_error: 0.1209 - val_loss: 0.1252 - val_mean_squared_error: 0.1252\n",
            "Epoch 68/150\n",
            "4/4 [==============================] - 0s 22ms/step - loss: 0.1207 - mean_squared_error: 0.1207 - val_loss: 0.1251 - val_mean_squared_error: 0.1251\n",
            "Epoch 69/150\n",
            "4/4 [==============================] - 0s 21ms/step - loss: 0.1205 - mean_squared_error: 0.1205 - val_loss: 0.1250 - val_mean_squared_error: 0.1250\n",
            "Epoch 70/150\n",
            "4/4 [==============================] - 0s 23ms/step - loss: 0.1203 - mean_squared_error: 0.1203 - val_loss: 0.1249 - val_mean_squared_error: 0.1249\n",
            "Epoch 71/150\n",
            "4/4 [==============================] - 0s 24ms/step - loss: 0.1201 - mean_squared_error: 0.1201 - val_loss: 0.1248 - val_mean_squared_error: 0.1248\n",
            "Epoch 72/150\n",
            "4/4 [==============================] - 0s 23ms/step - loss: 0.1199 - mean_squared_error: 0.1199 - val_loss: 0.1248 - val_mean_squared_error: 0.1248\n",
            "Epoch 73/150\n",
            "4/4 [==============================] - 0s 21ms/step - loss: 0.1198 - mean_squared_error: 0.1198 - val_loss: 0.1247 - val_mean_squared_error: 0.1247\n",
            "Epoch 74/150\n",
            "4/4 [==============================] - 0s 25ms/step - loss: 0.1195 - mean_squared_error: 0.1195 - val_loss: 0.1247 - val_mean_squared_error: 0.1247\n",
            "Epoch 75/150\n",
            "4/4 [==============================] - 0s 22ms/step - loss: 0.1194 - mean_squared_error: 0.1194 - val_loss: 0.1246 - val_mean_squared_error: 0.1246\n",
            "Epoch 76/150\n",
            "4/4 [==============================] - 0s 25ms/step - loss: 0.1192 - mean_squared_error: 0.1192 - val_loss: 0.1245 - val_mean_squared_error: 0.1245\n",
            "Epoch 77/150\n",
            "4/4 [==============================] - 0s 21ms/step - loss: 0.1190 - mean_squared_error: 0.1190 - val_loss: 0.1245 - val_mean_squared_error: 0.1245\n",
            "Epoch 78/150\n",
            "4/4 [==============================] - 0s 14ms/step - loss: 0.1188 - mean_squared_error: 0.1188 - val_loss: 0.1245 - val_mean_squared_error: 0.1245\n",
            "Epoch 79/150\n",
            "4/4 [==============================] - 0s 22ms/step - loss: 0.1187 - mean_squared_error: 0.1187 - val_loss: 0.1245 - val_mean_squared_error: 0.1245\n",
            "Epoch 80/150\n",
            "4/4 [==============================] - 0s 15ms/step - loss: 0.1185 - mean_squared_error: 0.1185 - val_loss: 0.1244 - val_mean_squared_error: 0.1244\n",
            "Epoch 81/150\n",
            "4/4 [==============================] - 0s 20ms/step - loss: 0.1184 - mean_squared_error: 0.1184 - val_loss: 0.1244 - val_mean_squared_error: 0.1244\n",
            "Epoch 82/150\n",
            "4/4 [==============================] - 0s 14ms/step - loss: 0.1183 - mean_squared_error: 0.1183 - val_loss: 0.1244 - val_mean_squared_error: 0.1244\n",
            "Epoch 83/150\n",
            "4/4 [==============================] - 0s 20ms/step - loss: 0.1181 - mean_squared_error: 0.1181 - val_loss: 0.1244 - val_mean_squared_error: 0.1244\n",
            "Epoch 84/150\n",
            "4/4 [==============================] - 0s 22ms/step - loss: 0.1179 - mean_squared_error: 0.1179 - val_loss: 0.1243 - val_mean_squared_error: 0.1243\n",
            "Epoch 85/150\n",
            "4/4 [==============================] - 0s 23ms/step - loss: 0.1178 - mean_squared_error: 0.1178 - val_loss: 0.1242 - val_mean_squared_error: 0.1242\n",
            "Epoch 86/150\n",
            "4/4 [==============================] - 0s 22ms/step - loss: 0.1177 - mean_squared_error: 0.1177 - val_loss: 0.1242 - val_mean_squared_error: 0.1242\n",
            "Epoch 87/150\n",
            "4/4 [==============================] - 0s 20ms/step - loss: 0.1175 - mean_squared_error: 0.1175 - val_loss: 0.1242 - val_mean_squared_error: 0.1242\n",
            "Epoch 88/150\n",
            "4/4 [==============================] - 0s 23ms/step - loss: 0.1174 - mean_squared_error: 0.1174 - val_loss: 0.1242 - val_mean_squared_error: 0.1242\n",
            "Epoch 89/150\n",
            "4/4 [==============================] - 0s 25ms/step - loss: 0.1173 - mean_squared_error: 0.1173 - val_loss: 0.1241 - val_mean_squared_error: 0.1241\n",
            "Epoch 90/150\n",
            "4/4 [==============================] - 0s 22ms/step - loss: 0.1172 - mean_squared_error: 0.1172 - val_loss: 0.1241 - val_mean_squared_error: 0.1241\n",
            "Epoch 91/150\n",
            "4/4 [==============================] - 0s 17ms/step - loss: 0.1170 - mean_squared_error: 0.1170 - val_loss: 0.1241 - val_mean_squared_error: 0.1241\n",
            "Epoch 92/150\n",
            "4/4 [==============================] - 0s 21ms/step - loss: 0.1169 - mean_squared_error: 0.1169 - val_loss: 0.1241 - val_mean_squared_error: 0.1241\n",
            "Epoch 93/150\n",
            "4/4 [==============================] - 0s 20ms/step - loss: 0.1168 - mean_squared_error: 0.1168 - val_loss: 0.1241 - val_mean_squared_error: 0.1241\n",
            "Epoch 94/150\n",
            "4/4 [==============================] - 0s 17ms/step - loss: 0.1167 - mean_squared_error: 0.1167 - val_loss: 0.1241 - val_mean_squared_error: 0.1241\n",
            "Epoch 95/150\n",
            "4/4 [==============================] - 0s 17ms/step - loss: 0.1165 - mean_squared_error: 0.1165 - val_loss: 0.1241 - val_mean_squared_error: 0.1241\n",
            "Epoch 96/150\n",
            "4/4 [==============================] - 0s 17ms/step - loss: 0.1164 - mean_squared_error: 0.1164 - val_loss: 0.1241 - val_mean_squared_error: 0.1241\n",
            "Epoch 97/150\n",
            "4/4 [==============================] - 0s 15ms/step - loss: 0.1163 - mean_squared_error: 0.1163 - val_loss: 0.1240 - val_mean_squared_error: 0.1240\n",
            "Epoch 98/150\n",
            "4/4 [==============================] - 0s 18ms/step - loss: 0.1162 - mean_squared_error: 0.1162 - val_loss: 0.1240 - val_mean_squared_error: 0.1240\n",
            "Epoch 99/150\n",
            "4/4 [==============================] - 0s 22ms/step - loss: 0.1161 - mean_squared_error: 0.1161 - val_loss: 0.1241 - val_mean_squared_error: 0.1241\n",
            "Epoch 100/150\n",
            "4/4 [==============================] - 0s 23ms/step - loss: 0.1160 - mean_squared_error: 0.1160 - val_loss: 0.1240 - val_mean_squared_error: 0.1240\n",
            "Epoch 101/150\n",
            "4/4 [==============================] - 0s 16ms/step - loss: 0.1159 - mean_squared_error: 0.1159 - val_loss: 0.1240 - val_mean_squared_error: 0.1240\n",
            "Epoch 102/150\n",
            "4/4 [==============================] - 0s 19ms/step - loss: 0.1158 - mean_squared_error: 0.1158 - val_loss: 0.1240 - val_mean_squared_error: 0.1240\n",
            "Epoch 103/150\n",
            "4/4 [==============================] - 0s 17ms/step - loss: 0.1157 - mean_squared_error: 0.1157 - val_loss: 0.1240 - val_mean_squared_error: 0.1240\n",
            "Epoch 104/150\n",
            "4/4 [==============================] - 0s 18ms/step - loss: 0.1156 - mean_squared_error: 0.1156 - val_loss: 0.1241 - val_mean_squared_error: 0.1241\n",
            "Epoch 105/150\n",
            "4/4 [==============================] - 0s 18ms/step - loss: 0.1155 - mean_squared_error: 0.1155 - val_loss: 0.1241 - val_mean_squared_error: 0.1241\n",
            "Epoch 106/150\n",
            "4/4 [==============================] - 0s 25ms/step - loss: 0.1154 - mean_squared_error: 0.1154 - val_loss: 0.1241 - val_mean_squared_error: 0.1241\n",
            "Epoch 107/150\n",
            "4/4 [==============================] - 0s 18ms/step - loss: 0.1153 - mean_squared_error: 0.1153 - val_loss: 0.1240 - val_mean_squared_error: 0.1240\n",
            "Epoch 108/150\n",
            "4/4 [==============================] - 0s 22ms/step - loss: 0.1152 - mean_squared_error: 0.1152 - val_loss: 0.1240 - val_mean_squared_error: 0.1240\n",
            "Epoch 109/150\n",
            "4/4 [==============================] - 0s 22ms/step - loss: 0.1152 - mean_squared_error: 0.1152 - val_loss: 0.1240 - val_mean_squared_error: 0.1240\n",
            "Epoch 110/150\n",
            "4/4 [==============================] - 0s 22ms/step - loss: 0.1151 - mean_squared_error: 0.1151 - val_loss: 0.1240 - val_mean_squared_error: 0.1240\n",
            "Epoch 111/150\n",
            "4/4 [==============================] - 0s 28ms/step - loss: 0.1150 - mean_squared_error: 0.1150 - val_loss: 0.1240 - val_mean_squared_error: 0.1240\n",
            "Epoch 112/150\n",
            "4/4 [==============================] - 0s 19ms/step - loss: 0.1149 - mean_squared_error: 0.1149 - val_loss: 0.1240 - val_mean_squared_error: 0.1240\n",
            "Epoch 113/150\n",
            "4/4 [==============================] - 0s 24ms/step - loss: 0.1149 - mean_squared_error: 0.1149 - val_loss: 0.1240 - val_mean_squared_error: 0.1240\n",
            "Epoch 114/150\n",
            "4/4 [==============================] - 0s 17ms/step - loss: 0.1148 - mean_squared_error: 0.1148 - val_loss: 0.1241 - val_mean_squared_error: 0.1241\n",
            "Epoch 115/150\n",
            "4/4 [==============================] - 0s 20ms/step - loss: 0.1147 - mean_squared_error: 0.1147 - val_loss: 0.1241 - val_mean_squared_error: 0.1241\n",
            "Epoch 116/150\n",
            "4/4 [==============================] - 0s 16ms/step - loss: 0.1147 - mean_squared_error: 0.1147 - val_loss: 0.1241 - val_mean_squared_error: 0.1241\n",
            "Epoch 117/150\n",
            "4/4 [==============================] - 0s 21ms/step - loss: 0.1146 - mean_squared_error: 0.1146 - val_loss: 0.1241 - val_mean_squared_error: 0.1241\n",
            "Epoch 118/150\n",
            "4/4 [==============================] - 0s 22ms/step - loss: 0.1145 - mean_squared_error: 0.1145 - val_loss: 0.1241 - val_mean_squared_error: 0.1241\n",
            "Epoch 119/150\n",
            "4/4 [==============================] - 0s 21ms/step - loss: 0.1144 - mean_squared_error: 0.1144 - val_loss: 0.1242 - val_mean_squared_error: 0.1242\n",
            "Epoch 120/150\n",
            "4/4 [==============================] - 0s 22ms/step - loss: 0.1144 - mean_squared_error: 0.1144 - val_loss: 0.1242 - val_mean_squared_error: 0.1242\n",
            "Epoch 121/150\n",
            "4/4 [==============================] - 0s 21ms/step - loss: 0.1143 - mean_squared_error: 0.1143 - val_loss: 0.1242 - val_mean_squared_error: 0.1242\n",
            "Epoch 122/150\n",
            "4/4 [==============================] - 0s 17ms/step - loss: 0.1143 - mean_squared_error: 0.1143 - val_loss: 0.1242 - val_mean_squared_error: 0.1242\n",
            "Epoch 123/150\n",
            "4/4 [==============================] - 0s 16ms/step - loss: 0.1142 - mean_squared_error: 0.1142 - val_loss: 0.1242 - val_mean_squared_error: 0.1242\n",
            "Epoch 124/150\n",
            "4/4 [==============================] - 0s 23ms/step - loss: 0.1141 - mean_squared_error: 0.1141 - val_loss: 0.1242 - val_mean_squared_error: 0.1242\n",
            "Epoch 125/150\n",
            "4/4 [==============================] - 0s 23ms/step - loss: 0.1141 - mean_squared_error: 0.1141 - val_loss: 0.1242 - val_mean_squared_error: 0.1242\n",
            "Epoch 126/150\n",
            "4/4 [==============================] - 0s 25ms/step - loss: 0.1140 - mean_squared_error: 0.1140 - val_loss: 0.1242 - val_mean_squared_error: 0.1242\n",
            "Epoch 127/150\n",
            "4/4 [==============================] - 0s 21ms/step - loss: 0.1140 - mean_squared_error: 0.1140 - val_loss: 0.1242 - val_mean_squared_error: 0.1242\n",
            "Epoch 128/150\n",
            "4/4 [==============================] - 0s 23ms/step - loss: 0.1139 - mean_squared_error: 0.1139 - val_loss: 0.1242 - val_mean_squared_error: 0.1242\n",
            "Epoch 129/150\n",
            "4/4 [==============================] - 0s 11ms/step - loss: 0.1139 - mean_squared_error: 0.1139 - val_loss: 0.1242 - val_mean_squared_error: 0.1242\n",
            "Epoch 130/150\n",
            "4/4 [==============================] - 0s 13ms/step - loss: 0.1138 - mean_squared_error: 0.1138 - val_loss: 0.1242 - val_mean_squared_error: 0.1242\n",
            "Epoch 131/150\n",
            "4/4 [==============================] - 0s 12ms/step - loss: 0.1138 - mean_squared_error: 0.1138 - val_loss: 0.1243 - val_mean_squared_error: 0.1243\n",
            "Epoch 132/150\n",
            "4/4 [==============================] - 0s 11ms/step - loss: 0.1137 - mean_squared_error: 0.1137 - val_loss: 0.1243 - val_mean_squared_error: 0.1243\n",
            "Epoch 133/150\n",
            "4/4 [==============================] - 0s 11ms/step - loss: 0.1137 - mean_squared_error: 0.1137 - val_loss: 0.1243 - val_mean_squared_error: 0.1243\n",
            "Epoch 134/150\n",
            "4/4 [==============================] - 0s 11ms/step - loss: 0.1137 - mean_squared_error: 0.1137 - val_loss: 0.1243 - val_mean_squared_error: 0.1243\n",
            "Epoch 135/150\n",
            "4/4 [==============================] - 0s 11ms/step - loss: 0.1136 - mean_squared_error: 0.1136 - val_loss: 0.1244 - val_mean_squared_error: 0.1244\n",
            "Epoch 136/150\n",
            "4/4 [==============================] - 0s 13ms/step - loss: 0.1136 - mean_squared_error: 0.1136 - val_loss: 0.1244 - val_mean_squared_error: 0.1244\n",
            "Epoch 137/150\n",
            "4/4 [==============================] - 0s 11ms/step - loss: 0.1135 - mean_squared_error: 0.1135 - val_loss: 0.1244 - val_mean_squared_error: 0.1244\n",
            "Epoch 138/150\n",
            "4/4 [==============================] - 0s 11ms/step - loss: 0.1135 - mean_squared_error: 0.1135 - val_loss: 0.1244 - val_mean_squared_error: 0.1244\n",
            "Epoch 139/150\n",
            "4/4 [==============================] - 0s 12ms/step - loss: 0.1134 - mean_squared_error: 0.1134 - val_loss: 0.1244 - val_mean_squared_error: 0.1244\n",
            "Epoch 140/150\n",
            "4/4 [==============================] - 0s 11ms/step - loss: 0.1134 - mean_squared_error: 0.1134 - val_loss: 0.1244 - val_mean_squared_error: 0.1244\n",
            "Epoch 141/150\n",
            "4/4 [==============================] - 0s 11ms/step - loss: 0.1134 - mean_squared_error: 0.1134 - val_loss: 0.1245 - val_mean_squared_error: 0.1245\n",
            "Epoch 142/150\n",
            "4/4 [==============================] - 0s 11ms/step - loss: 0.1133 - mean_squared_error: 0.1133 - val_loss: 0.1245 - val_mean_squared_error: 0.1245\n",
            "Epoch 143/150\n",
            "4/4 [==============================] - 0s 11ms/step - loss: 0.1133 - mean_squared_error: 0.1133 - val_loss: 0.1245 - val_mean_squared_error: 0.1245\n",
            "Epoch 144/150\n",
            "4/4 [==============================] - 0s 12ms/step - loss: 0.1133 - mean_squared_error: 0.1133 - val_loss: 0.1245 - val_mean_squared_error: 0.1245\n",
            "Epoch 145/150\n",
            "4/4 [==============================] - 0s 12ms/step - loss: 0.1132 - mean_squared_error: 0.1132 - val_loss: 0.1245 - val_mean_squared_error: 0.1245\n",
            "Epoch 146/150\n",
            "4/4 [==============================] - 0s 11ms/step - loss: 0.1132 - mean_squared_error: 0.1132 - val_loss: 0.1246 - val_mean_squared_error: 0.1246\n",
            "Epoch 147/150\n",
            "4/4 [==============================] - 0s 11ms/step - loss: 0.1132 - mean_squared_error: 0.1132 - val_loss: 0.1246 - val_mean_squared_error: 0.1246\n",
            "Epoch 148/150\n",
            "4/4 [==============================] - 0s 11ms/step - loss: 0.1131 - mean_squared_error: 0.1131 - val_loss: 0.1246 - val_mean_squared_error: 0.1246\n",
            "Epoch 149/150\n",
            "4/4 [==============================] - 0s 11ms/step - loss: 0.1131 - mean_squared_error: 0.1131 - val_loss: 0.1246 - val_mean_squared_error: 0.1246\n",
            "Epoch 150/150\n",
            "4/4 [==============================] - 0s 21ms/step - loss: 0.1131 - mean_squared_error: 0.1131 - val_loss: 0.1246 - val_mean_squared_error: 0.1246\n"
          ]
        }
      ]
    },
    {
      "cell_type": "markdown",
      "source": [
        "# 8. Resultados de la evaluación del modelo perceptrón\n",
        "Se evalúa el modelo en el conjunto de prueba y se muestran la pérdida y el error cuadrático medio (MSE)."
      ],
      "metadata": {
        "id": "MPbLAgCoJjTu"
      }
    },
    {
      "cell_type": "code",
      "source": [
        "test_loss, test_mse = model.evaluate(X_test, y_test)\n",
        "print(f'Loss: {test_loss}, MSE: {test_mse}')\n"
      ],
      "metadata": {
        "id": "0cf7iR1LJl84",
        "colab": {
          "base_uri": "https://localhost:8080/"
        },
        "outputId": "1f0dc866-b113-4819-cb3c-5a07ff6b7a35"
      },
      "execution_count": null,
      "outputs": [
        {
          "output_type": "stream",
          "name": "stdout",
          "text": [
            "1/1 [==============================] - 0s 24ms/step - loss: 0.0621 - mean_squared_error: 0.0621\n",
            "Loss: 0.062064506113529205, MSE: 0.062064506113529205\n"
          ]
        }
      ]
    },
    {
      "cell_type": "markdown",
      "source": [
        "El modelo tiene una pérdida (loss) y un error cuadrático medio (MSE) de aproximadamente 0.0621."
      ],
      "metadata": {
        "id": "yj9HGUFGg8zG"
      }
    },
    {
      "cell_type": "markdown",
      "source": [
        "# 9. Gráfica de pérdida de aprendizaje durante el entrenamiento\n",
        "Se muestra la gráfica de la pérdida de aprendizaje durante el entrenamiento y la validación."
      ],
      "metadata": {
        "id": "zvtzOOSDJnYD"
      }
    },
    {
      "cell_type": "code",
      "source": [
        "plt.plot(history.history['loss'], label='train_loss')\n",
        "plt.plot(history.history['val_loss'], label='val_loss')\n",
        "plt.xlabel('Epochs')\n",
        "plt.ylabel('Loss')\n",
        "plt.legend()\n",
        "plt.title('Learning Loss')\n",
        "plt.show()\n"
      ],
      "metadata": {
        "id": "bz9xITENJpgg",
        "colab": {
          "base_uri": "https://localhost:8080/",
          "height": 472
        },
        "outputId": "97e80b35-ebc4-4faf-c961-708bc69ba152"
      },
      "execution_count": null,
      "outputs": [
        {
          "output_type": "display_data",
          "data": {
            "text/plain": [
              "<Figure size 640x480 with 1 Axes>"
            ],
            "image/png": "[encoded data removed]"
          },
          "metadata": {}
        }
      ]
    },
    {
      "cell_type": "markdown",
      "source": [
        "# 10. Gráfica del MSE de aprendizaje durante el entrenamiento\n",
        "\n",
        "Se muestra la gráfica del error cuadrático medio (MSE) de aprendizaje durante el entrenamiento y la validación."
      ],
      "metadata": {
        "id": "9d63ofBAJsQa"
      }
    },
    {
      "cell_type": "code",
      "source": [
        "plt.plot(history.history['mean_squared_error'], label='train_mse')\n",
        "plt.plot(history.history['val_mean_squared_error'], label='val_mse')\n",
        "plt.xlabel('Epochs')\n",
        "plt.ylabel('Mean Squared Error')\n",
        "plt.legend()\n",
        "plt.title('Learning MSE')\n",
        "plt.show()\n"
      ],
      "metadata": {
        "id": "EXqwuTFGJtNB",
        "colab": {
          "base_uri": "https://localhost:8080/",
          "height": 472
        },
        "outputId": "0f239ea4-a34c-4bac-b78a-8e3f24f77689"
      },
      "execution_count": null,
      "outputs": [
        {
          "output_type": "display_data",
          "data": {
            "text/plain": [
              "<Figure size 640x480 with 1 Axes>"
            ],
            "image/png": "[encoded data removed]"
          },
          "metadata": {}
        }
      ]
    },
    {
      "cell_type": "markdown",
      "source": [
        "# 11. Explicación del comportamiento de ambos gráficos\n",
        "\n",
        "\n",
        "\n",
        "*   Gráfica de pérdida de aprendizaje: Muestra cómo disminuye la pérdida a medida que avanza el entrenamiento. Idealmente, la pérdida de entrenamiento y validación disminuyen y se estabilizan, indicando que el modelo está aprendiendo sin sobreajustar.\n",
        "*   Gráfica del MSE de aprendizaje: Similar a la pérdida, muestra el error cuadrático medio (MSE) durante el entrenamiento. Una MSE más baja indica un mejor ajuste del modelo. Si las curvas de validación comienzan a aumentar mientras la curva de entrenamiento sigue disminuyendo.\n",
        "\n",
        "\n",
        "\n"
      ],
      "metadata": {
        "id": "d--C2fJGJxBr"
      }
    }
  ]
}